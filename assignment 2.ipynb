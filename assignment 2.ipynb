{
 "cells": [
  {
   "cell_type": "code",
   "execution_count": null,
   "id": "1a3a9fdc",
   "metadata": {},
   "outputs": [],
   "source": [
    "# i need to correct this but should work\n",
    "events:\n",
    "1. Infection - Rate: Beta SI\n",
    "2. Recovery - Rate: gamma I\n",
    "import numpy as np\n",
    "import matplotlib.pyplot as plt\n",
    "import random\n",
    "# define arrays to store the variables\n",
    "X = [999]\n",
    "Y = [1]\n",
    "Z = [0]\n",
    "t = [0]\n",
    "N = 1000\n",
    "# everytime S,I,R or t increases or decreases, we append a number to the arrays above\n",
    "\n",
    "tend = 1000 # simulation time (1000 days)\n",
    "beta = 0.9\n",
    "gamma = 0.3\n",
    "# Gillespie algorithm loop\n",
    "while t[-1] < tend:\n",
    "    current_X = X[-1]\n",
    "    current_Y = Y[-1]\n",
    "    current_Z = Z[-1]\n",
    "    \n",
    "    # If no infected individuals, break out of the loop (epidemic is over)\n",
    "    if current_Y == 0:\n",
    "        break\n",
    "\n",
    "            # Calculate rates\n",
    "    infection_rate = beta * current_X * current_Y  # beta * S * I / N\n",
    "    recovery_rate = gamma * current_Y\n",
    "    rates = [infection_rate, recovery_rate]\n",
    "    rate_sum = sum(rates)\n",
    "\n",
    "    # Handle case where rate_sum is zero (no more events possible)\n",
    "    if rate_sum <= 0:\n",
    "        break  # No more events can happen, end the simulation\n",
    "\n",
    "    # Time until next event (exponentially distributed)\n",
    "    tau = np.random.exponential(scale=1/rate_sum)\n",
    "    t.append(t[-1] + tau)  # Append the new time\n",
    "\n",
    "    # Choose which event occurs: infection or recovery\n",
    "    rand = random.uniform(0, 1)\n",
    "\n",
    "    # Infection event\n",
    "    if rand * rate_sum < rates[0] and current_S > 0:\n",
    "        X.append(current_X - 1)\n",
    "        Y.append(current_Y + 1)\n",
    "        Z.append(current_Z)\n",
    "    \n",
    "    # Recovery event\n",
    "    elif rates[0] <= rand * rate_sum < rate_sum and current_Y > 0:\n",
    "        X.append(current_X)\n",
    "        Y.append(current_Y - 1)\n",
    "        Z.append(current_Z + 1)\n",
    "# Plot the results\n",
    "plt.plot(t, X, label=\"Susceptible\")\n",
    "plt.plot(t, Y, label=\"Infected\")\n",
    "plt.plot(t, Z, label=\"Recovered\")\n",
    "\n",
    "plt.xlabel(\"Time (days)\")\n",
    "plt.ylabel(\"Population\")\n",
    "plt.legend()\n",
    "plt.show()"
   ]
  },
  {
   "cell_type": "markdown",
   "id": "5c299c11",
   "metadata": {},
   "source": [
    "hello"
   ]
  }
 ],
 "metadata": {
  "kernelspec": {
   "display_name": "Python 3 (ipykernel)",
   "language": "python",
   "name": "python3"
  },
  "language_info": {
   "codemirror_mode": {
    "name": "ipython",
    "version": 3
   },
   "file_extension": ".py",
   "mimetype": "text/x-python",
   "name": "python",
   "nbconvert_exporter": "python",
   "pygments_lexer": "ipython3",
   "version": "3.9.7"
  }
 },
 "nbformat": 4,
 "nbformat_minor": 5
}
